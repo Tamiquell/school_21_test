{
 "cells": [
  {
   "cell_type": "code",
   "execution_count": 55,
   "id": "2a978f9a-266c-4f60-8016-e82063f50f5d",
   "metadata": {},
   "outputs": [],
   "source": [
    "class CostMatch:\n",
    "    def __init__(self, d):\n",
    "        self.d = d\n",
    "\n",
    "        \n",
    "def letter_in_word(word, letters):\n",
    "    return [letter for letter in letters if word.count(letter)]\n",
    "\n",
    "def several_products_discount(goods, d, k, discount, *args):\n",
    "    count = min([goods.count(arg) for arg in args])\n",
    "    discount += count * sum([d[arg] for arg in args]) * k / 100\n",
    "    for i in args:\n",
    "         goods = goods.replace(i, '', count)\n",
    "    return goods, discount \n",
    "    \n",
    "\n",
    "def count_wise_discount(goods, total_sum, *to_skip):\n",
    "    discount_per_count = {\n",
    "        3: 5,\n",
    "        4: 10,\n",
    "        4: 20,\n",
    "    }\n",
    "    for letter in to_skip:\n",
    "        goods = goods.replace(letter, '', goods.count(letter))\n",
    "    try:\n",
    "        total_sum = total_sum * (1 - discount_per_count[len(goods)]/100)\n",
    "    finally:\n",
    "        return total_sum\n",
    "    \n",
    "    \n",
    "    \n",
    "class Cash(CostMatch):\n",
    "    def __init__(self, first_class, goods: str):\n",
    "        self.d = first_class.d\n",
    "        self.goods = goods\n",
    "        self.total_sum = sum([self.d[i] for i in self.goods])\n",
    "        self.discount = 0\n",
    "        \n",
    "    def calculate_total_sum(self):\n",
    "        # 1. Если одновременно выбраны А и B, то их суммарная стоимость уменьшается на 10% (для каждой пары А и B) \n",
    "        if self.goods.count('A') and self.goods.count('B'):\n",
    "            self.goods, self.discount = several_products_discount(self.goods, self.d,\n",
    "                                                                  10, self.discount, 'A', 'B'\n",
    "                                                                 )\n",
    "        \n",
    "        \n",
    "        # 2. Если одновременно выбраны D и E, то их суммарная стоимость уменьшается на 5% (для каждой пары D и E)\n",
    "        if self.goods.count('D') and self.goods.count('E'):\n",
    "            self.goods, self.discount = several_products_discount(self.goods, self.d,\n",
    "                                                                  5, self.discount, 'D', 'E'\n",
    "                                                                 )\n",
    "            \n",
    "        # 3. Если одновременно выбраны E,F,G, то их суммарная стоимость уменьшается на 5% (для каждой тройки E,F,G)\n",
    "        if self.goods.count('E') and self.goods.count('F') and self.goods.count('G'):\n",
    "            self.goods, self.discount = several_products_discount(self.goods, self.d,\n",
    "                                                                  5, self.discount, 'E', 'F', 'G'\n",
    "                                                                 )\n",
    "            \n",
    "        # 4. Если одновременно выбраны А и один из [K,L,M], то стоимость выбранного продукта уменьшается на 5%\n",
    "        cond_klm = self.goods.count('K') or self.goods.count('L') or self.goods.count('M')\n",
    "        if self.goods.count('A') and cond_klm:\n",
    "            self.goods, self.discount = several_products_discount(self.goods, self.d,\n",
    "                                                                  5, self.discount, letter_in_word(self.goods, 'KLM')\n",
    "                                                                 )    \n",
    "        self.total_sum -= self.discount\n",
    "        \n",
    "        # 5. Если пользователь выбрал одновременно 3 продукта, он получает скидку 5% от суммы заказа\n",
    "        # 6. Если пользователь выбрал одновременно 4 продукта, он получает скидку 10% от суммы заказа\n",
    "        # 7. Если пользователь выбрал одновременно 5 продуктов, он получает скидку 20% от суммы заказа 0\n",
    "        self.total_sum = count_wise_discount(self.goods, self.total_sum, 'A', 'C')\n",
    "        return self.total_sum\n",
    "        \n",
    "        # Описанные скидки 5,6,7 не суммируются, применяется только одна из них \n",
    "        # Продукты A и C не участвуют в скидках 5,6,7 \n",
    "        # Каждый товар может участвовать только в одной скидке. Скидки применяются последовательно в порядке описанном выше. "
   ]
  },
  {
   "cell_type": "code",
   "execution_count": 56,
   "id": "00f8d648-4cbf-4c06-bb8e-7c395ecff641",
   "metadata": {},
   "outputs": [
    {
     "data": {
      "text/plain": [
       "383.24"
      ]
     },
     "execution_count": 56,
     "metadata": {},
     "output_type": "execute_result"
    }
   ],
   "source": [
    "d1 = {'A': 1, 'B': 5, 'C': 10, 'D': 15, 'E': 20,\n",
    "     'F': 50, 'G': 75, 'H': 100, 'I': 150, 'J': 200,\n",
    "     'K': 500, 'L': 1000, 'M': 5000}\n",
    "cm = CostMatch(d1)\n",
    "\n",
    "\n",
    "\n",
    "cash = Cash(cm, 'ABCDEFBAHJG')\n",
    "cash.calculate_total_sum()"
   ]
  },
  {
   "cell_type": "code",
   "execution_count": null,
   "id": "e24230a6-21a8-485b-a0b9-63b7bd3887ba",
   "metadata": {},
   "outputs": [],
   "source": []
  },
  {
   "cell_type": "code",
   "execution_count": null,
   "id": "519732e9-70fb-41d2-bca3-a49ebed0c940",
   "metadata": {},
   "outputs": [],
   "source": []
  },
  {
   "cell_type": "code",
   "execution_count": null,
   "id": "a0e3cbb9-341d-4298-ae66-e1a852882ab2",
   "metadata": {},
   "outputs": [],
   "source": []
  },
  {
   "cell_type": "code",
   "execution_count": null,
   "id": "8e1f4145-39d4-4c39-a0e2-2390ffacd033",
   "metadata": {},
   "outputs": [],
   "source": []
  }
 ],
 "metadata": {
  "kernelspec": {
   "display_name": "Python 3",
   "language": "python",
   "name": "python3"
  },
  "language_info": {
   "codemirror_mode": {
    "name": "ipython",
    "version": 3
   },
   "file_extension": ".py",
   "mimetype": "text/x-python",
   "name": "python",
   "nbconvert_exporter": "python",
   "pygments_lexer": "ipython3",
   "version": "3.8.8"
  }
 },
 "nbformat": 4,
 "nbformat_minor": 5
}
